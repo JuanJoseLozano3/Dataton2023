{
  "nbformat": 4,
  "nbformat_minor": 0,
  "metadata": {
    "colab": {
      "provenance": []
    },
    "kernelspec": {
      "name": "python3",
      "display_name": "Python 3"
    },
    "language_info": {
      "name": "python"
    }
  },
  "cells": [
    {
      "cell_type": "code",
      "execution_count": 1,
      "metadata": {
        "colab": {
          "base_uri": "https://localhost:8080/"
        },
        "id": "lJYEdqoOmZSX",
        "outputId": "e255edb3-52c8-4a4d-c5c1-1b2ec460c481"
      },
      "outputs": [
        {
          "output_type": "stream",
          "name": "stdout",
          "text": [
            "Collecting pulp\n",
            "  Downloading PuLP-2.7.0-py3-none-any.whl (14.3 MB)\n",
            "\u001b[2K     \u001b[90m━━━━━━━━━━━━━━━━━━━━━━━━━━━━━━━━━━━━━━━━\u001b[0m \u001b[32m14.3/14.3 MB\u001b[0m \u001b[31m86.2 MB/s\u001b[0m eta \u001b[36m0:00:00\u001b[0m\n",
            "\u001b[?25hInstalling collected packages: pulp\n",
            "Successfully installed pulp-2.7.0\n"
          ]
        }
      ],
      "source": [
        "pip install pulp"
      ]
    },
    {
      "cell_type": "code",
      "source": [
        "import pandas as pd\n",
        "from joblib import Memory\n",
        "#from pulp import LpProblem, LpVariable, lpSum, LpMinimize\n",
        "from pulp import LpProblem, LpVariable, lpSum, LpMinimize, value\n",
        "import numpy as np\n",
        "\n",
        "\n",
        "#6:43\n",
        "\n",
        "# Crea un objeto de caché en la carpeta 'cache'\n",
        "memory = Memory('cache', verbose=0)\n",
        "\n",
        "# Función para cargar los datos desde los archivos Excel o caché\n",
        "@memory.cache\n",
        "def cargar_datos_desde_excel():\n",
        "    demanda_df = pd.read_excel('Demanda_Horarios_Sabado_1.xlsx')\n",
        "    combinaciones_df = pd.read_excel('horarios_sabado_TC.xlsx').iloc[:, :29]\n",
        "    return demanda_df, combinaciones_df\n",
        "\n",
        "demanda_df, combinaciones_df = cargar_datos_desde_excel()\n",
        "\n",
        "empleados = 5\n",
        "franjas_horarias = 29\n",
        "combinaciones = len(combinaciones_df)\n",
        "\n",
        "# Crear una matriz de demanda que coincida con las combinaciones de horarios\n",
        "demanda = np.array([demanda_df.iloc[0, :]] * combinaciones)\n",
        "\n",
        "# Crear un problema de programación lineal\n",
        "problema = LpProblem(\"Asignacion_de_Horarios\", LpMinimize)\n",
        "\n",
        "# Variables binarias para la asignación de horarios\n",
        "asignacion = LpVariable.dicts(\"Asignacion\", [(i, j) for i in range(empleados) for j in range(combinaciones)], cat='Binary')\n",
        "\n",
        "# Función objetivo para minimizar la cantidad de demanda incumplida\n",
        "problema += lpSum(demanda[j] - lpSum(asignacion[(i, j)] for i in range(empleados)) for j in range(combinaciones))\n",
        "\n",
        "# Restricciones\n",
        "for i in range(empleados):\n",
        "    problema += lpSum(asignacion[(i, j)] for j in range(combinaciones)) == empleados\n",
        "\n",
        "for j in range(combinaciones):\n",
        "    problema += lpSum(asignacion[(i, j)] for i in range(empleados)) >= 1\n",
        "\n",
        "# Resolver el problema\n",
        "problema.solve()\n",
        "\n",
        "# Mostrar los resultados\n",
        "asignaciones = {}\n",
        "for i in range(empleados):\n",
        "    asignaciones[i] = [j for j in range(combinaciones) if value(asignacion[(i, j)]) == 1]\n",
        "\n",
        "for i, asignacion in asignaciones.items():\n",
        "    print(len(asignacion))\n",
        "    print(f\"Empleado {i + 1} trabaja en las combinaciones de horarios: {asignacion}\")"
      ],
      "metadata": {
        "colab": {
          "base_uri": "https://localhost:8080/"
        },
        "id": "aS9OyedUmnDD",
        "outputId": "24f943f4-0cd8-4c11-a93f-18ca42c6b9be"
      },
      "execution_count": 2,
      "outputs": [
        {
          "output_type": "stream",
          "name": "stdout",
          "text": [
            "5\n",
            "Empleado 1 trabaja en las combinaciones de horarios: [31, 66, 129, 186, 281]\n",
            "10\n",
            "Empleado 2 trabaja en las combinaciones de horarios: [2, 24, 54, 117, 145, 182, 215, 258, 270, 294]\n",
            "3\n",
            "Empleado 3 trabaja en las combinaciones de horarios: [81, 120, 159]\n",
            "7\n",
            "Empleado 4 trabaja en las combinaciones de horarios: [30, 31, 52, 60, 303, 307, 308]\n",
            "5\n",
            "Empleado 5 trabaja en las combinaciones de horarios: [21, 96, 112, 257, 321]\n"
          ]
        }
      ]
    },
    {
      "cell_type": "code",
      "source": [
        "fila_e1 = combinaciones_df.iloc[0]\n",
        "#print(fila_e1)\n",
        "print(len(combinaciones_df.iloc[:]))"
      ],
      "metadata": {
        "colab": {
          "base_uri": "https://localhost:8080/"
        },
        "id": "q1VX2pvqpKG4",
        "outputId": "164b08f5-82bf-47fc-80d2-0f8478e9a404"
      },
      "execution_count": null,
      "outputs": [
        {
          "output_type": "stream",
          "name": "stdout",
          "text": [
            "322\n"
          ]
        }
      ]
    },
    {
      "cell_type": "code",
      "source": [
        "from numpy import var\n",
        "\n",
        "\n",
        "#df2 = pd.read_excel(\"intento2_almuerzoBien.xlsx\")\n",
        "asig=[]\n",
        "dem=[]\n",
        "for i, asignacion in asignaciones.items():\n",
        "    asig.append(asignacion)\n",
        "\n",
        "for i in range(29):\n",
        "    dem.append(demanda_df.iloc[0,i])\n",
        "\n",
        "k=-1\n",
        "l=[]\n",
        "p=[]\n",
        "m=[]\n",
        "minimum=999999\n",
        "horarios_=[]\n",
        "\n",
        "for f_e1 in range(0,len(asig[0])):\n",
        "  fila_e1 = combinaciones_df.iloc[asig[0][f_e1]]\n",
        "  for f_e2 in range(0,len(asig[1])):\n",
        "    fila_e2 = combinaciones_df.iloc[asig[1][f_e2]]\n",
        "    for f_e3 in range(0,len(asig[2])):\n",
        "      fila_e3 = combinaciones_df.iloc[asig[2][f_e3]]\n",
        "      for f_e4 in range(0,len(asig[3])):\n",
        "        fila_e4 = combinaciones_df.iloc[asig[3][f_e4]]\n",
        "        for f_e5 in range(0,len(asig[4])):\n",
        "          fila_e5 = combinaciones_df.iloc[asig[4][f_e5]]\n",
        "          sumatoria=0\n",
        "          flag=0\n",
        "          for c in range(1,30):\n",
        "            e1=fila_e1[c]\n",
        "            e2=fila_e2[c]\n",
        "            e3=fila_e3[c]\n",
        "            e4=fila_e4[c]\n",
        "            e5=fila_e5[c]\n",
        "            cont=0\n",
        "            if(e1==1):\n",
        "              cont=cont+1\n",
        "            if(e2==1):\n",
        "              cont=cont+1\n",
        "            if(e3==1):\n",
        "              cont=cont+1\n",
        "            if(e4==1):\n",
        "              cont=cont+1\n",
        "            if(e5==1):\n",
        "              cont=cont+1\n",
        "            val=dem[c-1]\n",
        "            if((val-cont)>=0):\n",
        "              sumatoria=sumatoria+(val-cont)\n",
        "          if(sumatoria<=minimum):\n",
        "            filas_vic = [asig[0][f_e1],asig[1][f_e2],asig[2][f_e3],asig[3][f_e4],asig[4][f_e5]]\n",
        "            filas_rea = [f_e1,f_e2,f_e3,f_e4,f_e5]\n",
        "            minimum=sumatoria\n",
        "            horarios_.append(filas_vic)\n",
        "\n",
        "horarios_final=horarios_[0]\n",
        "print(horarios_final)"
      ],
      "metadata": {
        "colab": {
          "base_uri": "https://localhost:8080/"
        },
        "id": "lDpDfKjim1aG",
        "outputId": "7760f1dc-4a39-4a9a-ccb7-4613a5e99aca"
      },
      "execution_count": 10,
      "outputs": [
        {
          "output_type": "stream",
          "name": "stdout",
          "text": [
            "[31, 2, 81, 30, 21]\n"
          ]
        }
      ]
    },
    {
      "cell_type": "code",
      "source": [
        "fila_e1 = combinaciones_df.iloc[horarios_final[0]]\n",
        "fila_e2 = combinaciones_df.iloc[horarios_final[1]]\n",
        "fila_e3 = combinaciones_df.iloc[horarios_final[2]]\n",
        "fila_e4 = combinaciones_df.iloc[horarios_final[3]]\n",
        "fila_e5 = combinaciones_df.iloc[horarios_final[4]]\n",
        "sumatoria=0\n",
        "#flag=0\n",
        "contador_mt=0\n",
        "for c in range(1,30):\n",
        "  e1=fila_e1[c]\n",
        "  e2=fila_e2[c]\n",
        "  e3=fila_e3[c]\n",
        "  e4=fila_e4[c]\n",
        "  e5=fila_e5[c]\n",
        "  cont=0\n",
        "  if(e1==1):\n",
        "    cont=cont+1\n",
        "  if(e2==1):\n",
        "    cont=cont+1\n",
        "  if(e3==1):\n",
        "    cont=cont+1\n",
        "  if(e4==1):\n",
        "    cont=cont+1\n",
        "  if(e5==1):\n",
        "    cont=cont+1\n",
        "  if(cont==0):\n",
        "    print(c)\n",
        "    contador_mt=contador_mt+1\n",
        "  val=dem[c-1]\n",
        "  if((val-cont)>=0):\n",
        "    sumatoria=sumatoria+(val-cont)\n",
        "print(\"Error de: \"+str(sumatoria))\n",
        "#print(contador_mt)"
      ],
      "metadata": {
        "colab": {
          "base_uri": "https://localhost:8080/"
        },
        "id": "N8Zt3FqPrJWz",
        "outputId": "aa5d17aa-62f5-4e53-c980-34af363357a0"
      },
      "execution_count": 11,
      "outputs": [
        {
          "output_type": "stream",
          "name": "stdout",
          "text": [
            "24\n",
            "25\n",
            "26\n",
            "27\n",
            "28\n",
            "29\n",
            "Error de: 80\n"
          ]
        }
      ]
    },
    {
      "cell_type": "code",
      "source": [
        "def cargar_datos_desde_excel():\n",
        "    demanda_df = pd.read_excel('Demanda_Horarios_Sabado_1.xlsx')\n",
        "    combinaciones_df = pd.read_excel('horarios_sabado_MT.xlsx').iloc[:, :29]\n",
        "    return demanda_df, combinaciones_df\n",
        "\n",
        "demanda_df, combinaciones2_df = cargar_datos_desde_excel()\n",
        "#print(combinaciones_df.iloc[0,:])\n",
        "\n",
        "fila_e1 = combinaciones_df.iloc[horarios_final[0]]\n",
        "fila_e2 = combinaciones_df.iloc[horarios_final[1]]\n",
        "fila_e3 = combinaciones_df.iloc[horarios_final[2]]\n",
        "fila_e4 = combinaciones_df.iloc[horarios_final[3]]\n",
        "fila_e5 = combinaciones_df.iloc[horarios_final[4]]\n",
        "fila_e6 = combinaciones2_df.iloc[:]\n",
        "\n",
        "if(contador_mt>0):\n",
        "  sumatoria=0\n",
        "  p=[]\n",
        "  min=999\n",
        "  for g in range(1,len(fila_e6)):\n",
        "    con=0\n",
        "    for c in range(1,30):\n",
        "      e1=fila_e1[c]\n",
        "      e2=fila_e2[c]\n",
        "      e3=fila_e3[c]\n",
        "      e4=fila_e4[c]\n",
        "      e5=fila_e5[c]\n",
        "      e6=combinaciones2_df.iloc[g,c-1]\n",
        "      cont=0\n",
        "      if(e1==1):\n",
        "        cont=cont+1\n",
        "      if(e2==1):\n",
        "        cont=cont+1\n",
        "      if(e3==1):\n",
        "        cont=cont+1\n",
        "      if(e4==1):\n",
        "        cont=cont+1\n",
        "      if(e5==1):\n",
        "        cont=cont+1\n",
        "      if(e6==1):\n",
        "        cont=cont+1\n",
        "      if(cont==0):\n",
        "        con=con+1\n",
        "    if(min>=con):\n",
        "      min=con\n",
        "      p.append(g)\n",
        "    #print(con)\n",
        "    #print(\"Combination: \"+str(g)+\" error de: \"+str(min))\n",
        "  #print(p)\n",
        "\n",
        "  pos_mt1=[]\n",
        "  for g in p:\n",
        "    con=0\n",
        "    for c in range(1,30):\n",
        "      e1=fila_e1[c]\n",
        "      e2=fila_e2[c]\n",
        "      e3=fila_e3[c]\n",
        "      e4=fila_e4[c]\n",
        "      e5=fila_e5[c]\n",
        "      e6=combinaciones2_df.iloc[g,c-1]\n",
        "      cont=0\n",
        "      if(e1==1):\n",
        "        cont=cont+1\n",
        "      if(e2==1):\n",
        "        cont=cont+1\n",
        "      if(e3==1):\n",
        "        cont=cont+1\n",
        "      if(e4==1):\n",
        "        cont=cont+1\n",
        "      if(e5==1):\n",
        "        cont=cont+1\n",
        "      if(e6==1):\n",
        "        cont=cont+1\n",
        "      if(cont==0):\n",
        "        con=con+1\n",
        "    if(min==con):\n",
        "      pos_mt1.append(g)\n",
        "    #print(\"Combination: \"+str(g)+\" error de: \"+str(con))\n",
        "  #print(pos_mt1)\n",
        "  horarios_final.append(pos_mt1[0])\n",
        "print(horarios_final)\n",
        "valor_final6=horarios_final[len(horarios_final)-1]"
      ],
      "metadata": {
        "colab": {
          "base_uri": "https://localhost:8080/"
        },
        "id": "2dSX-cXirnfW",
        "outputId": "30f743d8-020c-4c1e-d5d8-d2cb356aa42a"
      },
      "execution_count": 12,
      "outputs": [
        {
          "output_type": "stream",
          "name": "stdout",
          "text": [
            "[31, 2, 81, 30, 21, 104]\n"
          ]
        }
      ]
    },
    {
      "cell_type": "code",
      "source": [
        "for i in range(29):\n",
        "    dem.append(demanda_df.iloc[0,i])\n",
        "\n",
        "fila_e7 = combinaciones2_df.iloc[:]\n",
        "\n",
        "horarios_final.append(0)\n",
        "sumatoria=0\n",
        "p=[]\n",
        "min=999\n",
        "for g in range(1,len(fila_e7)):\n",
        "  con=0\n",
        "  for c in range(1,30):\n",
        "    e1=fila_e1[c]\n",
        "    e2=fila_e2[c]\n",
        "    e3=fila_e3[c]\n",
        "    e4=fila_e4[c]\n",
        "    e5=fila_e5[c]\n",
        "    e6=combinaciones2_df.iloc[horarios_final[len(horarios_final)-2],c-1]\n",
        "    e7=combinaciones2_df.iloc[g,c-1]\n",
        "    cont=0\n",
        "    if(e1==1):\n",
        "      cont=cont+1\n",
        "    if(e2==1):\n",
        "      cont=cont+1\n",
        "    if(e3==1):\n",
        "      cont=cont+1\n",
        "    if(e4==1):\n",
        "      cont=cont+1\n",
        "    if(e5==1):\n",
        "      cont=cont+1\n",
        "    if(e6==1):\n",
        "      cont=cont+1\n",
        "    if(e7==1):\n",
        "      cont=cont+1\n",
        "    val=dem[c-1]\n",
        "    if((val-cont)>=0):\n",
        "      sumatoria=sumatoria+(val-cont)\n",
        "  if(sumatoria<=minimum):\n",
        "    minimum=sumatoria\n",
        "    horarios_final[len(horarios_final)-1]=g\n",
        "print(horarios_final)\n",
        "valor_final7=horarios_final[len(horarios_final)-1]"
      ],
      "metadata": {
        "colab": {
          "base_uri": "https://localhost:8080/"
        },
        "id": "3T9U4J7RsQDO",
        "outputId": "5b3e3100-0ea8-4bf7-a4b0-7bcc7e43ee0e"
      },
      "execution_count": 13,
      "outputs": [
        {
          "output_type": "stream",
          "name": "stdout",
          "text": [
            "[31, 2, 81, 30, 21, 104, 1]\n"
          ]
        }
      ]
    },
    {
      "cell_type": "code",
      "source": [
        "for i in range(29):\n",
        "    dem.append(demanda_df.iloc[0,i])\n",
        "\n",
        "fila_e8 = combinaciones2_df.iloc[:]\n",
        "\n",
        "horarios_final.append(0)\n",
        "sumatoria=0\n",
        "p=[]\n",
        "min=999\n",
        "for g in range(1,len(fila_e8)):\n",
        "  con=0\n",
        "  for c in range(1,30):\n",
        "    e1=fila_e1[c]\n",
        "    e2=fila_e2[c]\n",
        "    e3=fila_e3[c]\n",
        "    e4=fila_e4[c]\n",
        "    e5=fila_e5[c]\n",
        "    e6=combinaciones2_df.iloc[horarios_final[len(horarios_final)-3],c-1]\n",
        "    e7=combinaciones2_df.iloc[horarios_final[len(horarios_final)-2],c-1]\n",
        "    e8=combinaciones2_df.iloc[g,c-1]\n",
        "    cont=0\n",
        "    if(e1==1):\n",
        "      cont=cont+1\n",
        "    if(e2==1):\n",
        "      cont=cont+1\n",
        "    if(e3==1):\n",
        "      cont=cont+1\n",
        "    if(e4==1):\n",
        "      cont=cont+1\n",
        "    if(e5==1):\n",
        "      cont=cont+1\n",
        "    if(e6==1):\n",
        "      cont=cont+1\n",
        "    if(e7==1):\n",
        "      cont=cont+1\n",
        "    if(e8==1):\n",
        "      cont=cont+1\n",
        "    val=dem[c-1]\n",
        "    if((val-cont)>=0):\n",
        "      sumatoria=sumatoria+(val-cont)\n",
        "  if(sumatoria<=minimum):\n",
        "    minimum=sumatoria\n",
        "    horarios_final[len(horarios_final)-1]=g\n",
        "print(horarios_final)\n",
        "valor_final8=horarios_final[len(horarios_final)-1]"
      ],
      "metadata": {
        "colab": {
          "base_uri": "https://localhost:8080/"
        },
        "id": "NzbdcCHhsfrq",
        "outputId": "f3ad9ba7-bcd2-441d-f4d3-83c9fc1c7204"
      },
      "execution_count": 14,
      "outputs": [
        {
          "output_type": "stream",
          "name": "stdout",
          "text": [
            "[31, 2, 81, 30, 21, 104, 1, 1]\n"
          ]
        }
      ]
    },
    {
      "cell_type": "code",
      "source": [
        "for i in range(29):\n",
        "    dem.append(demanda_df.iloc[0,i])\n",
        "\n",
        "fila_e9 = combinaciones2_df.iloc[:]\n",
        "\n",
        "horarios_final.append(0)\n",
        "sumatoria=0\n",
        "p=[]\n",
        "min=999\n",
        "for g in range(1,len(fila_e9)):\n",
        "  con=0\n",
        "  for c in range(1,30):\n",
        "    e1=fila_e1[c]\n",
        "    e2=fila_e2[c]\n",
        "    e3=fila_e3[c]\n",
        "    e4=fila_e4[c]\n",
        "    e5=fila_e5[c]\n",
        "    e6=combinaciones2_df.iloc[horarios_final[len(horarios_final)-4],c-1]\n",
        "    e7=combinaciones2_df.iloc[horarios_final[len(horarios_final)-3],c-1]\n",
        "    e8=combinaciones2_df.iloc[horarios_final[len(horarios_final)-2],c-1]\n",
        "    e9=combinaciones2_df.iloc[g,c-1]\n",
        "    cont=0\n",
        "    if(e1==1):\n",
        "      cont=cont+1\n",
        "    if(e2==1):\n",
        "      cont=cont+1\n",
        "    if(e3==1):\n",
        "      cont=cont+1\n",
        "    if(e4==1):\n",
        "      cont=cont+1\n",
        "    if(e5==1):\n",
        "      cont=cont+1\n",
        "    if(e6==1):\n",
        "      cont=cont+1\n",
        "    if(e7==1):\n",
        "      cont=cont+1\n",
        "    if(e8==1):\n",
        "      cont=cont+1\n",
        "    if(e9==1):\n",
        "      cont=cont+1\n",
        "    val=dem[c-1]\n",
        "    if((val-cont)>=0):\n",
        "      sumatoria=sumatoria+(val-cont)\n",
        "  if(sumatoria<=minimum):\n",
        "    minimum=sumatoria\n",
        "    horarios_final[len(horarios_final)-1]=g\n",
        "print(horarios_final)\n",
        "valor_final9=horarios_final[len(horarios_final)-1]"
      ],
      "metadata": {
        "colab": {
          "base_uri": "https://localhost:8080/"
        },
        "id": "eItDmo_362X8",
        "outputId": "11faf4ba-4ff2-4ca4-e4bc-939c025bf0cd"
      },
      "execution_count": 15,
      "outputs": [
        {
          "output_type": "stream",
          "name": "stdout",
          "text": [
            "[31, 2, 81, 30, 21, 104, 1, 1, 1]\n"
          ]
        }
      ]
    },
    {
      "cell_type": "code",
      "source": [
        "fila_e1 = combinaciones_df.iloc[horarios_final[0]]\n",
        "fila_e2 = combinaciones_df.iloc[horarios_final[1]]\n",
        "fila_e3 = combinaciones_df.iloc[horarios_final[2]]\n",
        "fila_e4 = combinaciones_df.iloc[horarios_final[3]]\n",
        "fila_e5 = combinaciones_df.iloc[horarios_final[4]]\n",
        "fila_e6 = combinaciones2_df.iloc[valor_final6]\n",
        "fila_e7 = combinaciones2_df.iloc[valor_final7]\n",
        "fila_e8 = combinaciones2_df.iloc[valor_final8]\n",
        "fila_e9 = combinaciones2_df.iloc[valor_final9]\n",
        "sumatoria=0\n",
        "#flag=0\n",
        "contador_mt=0\n",
        "for c in range(1,30):\n",
        "  e1=fila_e1[c]\n",
        "  e2=fila_e2[c]\n",
        "  e3=fila_e3[c]\n",
        "  e4=fila_e4[c]\n",
        "  e5=fila_e5[c]\n",
        "  e6=fila_e6[c]\n",
        "  e7=fila_e7[c]\n",
        "  e8=fila_e8[c]\n",
        "  e9=fila_e9[c]\n",
        "  cont=0\n",
        "  if(e1==1):\n",
        "    cont=cont+1\n",
        "  if(e2==1):\n",
        "    cont=cont+1\n",
        "  if(e3==1):\n",
        "    cont=cont+1\n",
        "  if(e4==1):\n",
        "    cont=cont+1\n",
        "  if(e5==1):\n",
        "    cont=cont+1\n",
        "  if(e6==1):\n",
        "    cont=cont+1\n",
        "  if(e7==1):\n",
        "    cont=cont+1\n",
        "  if(e8==1):\n",
        "    cont=cont+1\n",
        "  if(e9==1):\n",
        "    cont=cont+1\n",
        "  if(cont==0):\n",
        "    print(c)\n",
        "    contador_mt=contador_mt+1\n",
        "  val=dem[c-1]\n",
        "  if((val-cont)>=0):\n",
        "    sumatoria=sumatoria+(val-cont)\n",
        "print(\"Error de: \"+str(sumatoria))\n"
      ],
      "metadata": {
        "colab": {
          "base_uri": "https://localhost:8080/"
        },
        "id": "2zXCCR7sr9nV",
        "outputId": "9467c14b-cd16-472e-9549-9ecf48eb2f64"
      },
      "execution_count": 16,
      "outputs": [
        {
          "output_type": "stream",
          "name": "stdout",
          "text": [
            "Error de: 37\n"
          ]
        }
      ]
    },
    {
      "cell_type": "code",
      "source": [
        "import openpyxl\n",
        "def guardarHorario3(horario):\n",
        "    wb = openpyxl.Workbook()\n",
        "    hoja = wb.active\n",
        "    i=0\n",
        "    while i<len(horario):\n",
        "        hoja.append(tuple(horario[i]))\n",
        "        i=i+1\n",
        "    wb.save('intento_final_2_2.csv')"
      ],
      "metadata": {
        "id": "Z8gA9ZvYsvEo"
      },
      "execution_count": 17,
      "outputs": []
    },
    {
      "cell_type": "code",
      "source": [
        "from datetime import datetime, timedelta\n",
        "\n",
        "sucursal=834\n",
        "dia=11\n",
        "documento=1014\n",
        "\n",
        "hor=[]\n",
        "ini = [\"suc_cod\",\"documento\",\"fecha\",\"hora\",\"estado\",\"hora_franja\"]\n",
        "hor.append(ini)\n",
        "#print(valor_final)\n",
        "t=9\n",
        "for i in range(t):\n",
        "    hora_inicial = datetime(2023, 12, dia, 7, 30)  # Cambia la fecha y hora según tus necesidades\n",
        "    hora_final = hora_inicial\n",
        "    j=1\n",
        "    while j<30:\n",
        "        if(i==0):\n",
        "          empleado = combinaciones_df.iloc[horarios_final[0]]\n",
        "        elif (i==1):\n",
        "          empleado = combinaciones_df.iloc[horarios_final[1]]\n",
        "        elif (i==2):\n",
        "          empleado = combinaciones_df.iloc[horarios_final[2]]\n",
        "        elif (i==3):\n",
        "          empleado = combinaciones_df.iloc[horarios_final[3]]\n",
        "        elif (i==4):\n",
        "          empleado = combinaciones_df.iloc[horarios_final[4]]\n",
        "        elif (i==5):\n",
        "          empleado = combinaciones2_df.iloc[valor_final6]\n",
        "        elif (i==6):\n",
        "          empleado = combinaciones2_df.iloc[valor_final7]\n",
        "        else:\n",
        "          empleado = combinaciones2_df.iloc[valor_final8]\n",
        "        k=j\n",
        "        if(j==1):\n",
        "            k=1\n",
        "            while(k<30):\n",
        "                if(empleado[k]==1):\n",
        "                    break\n",
        "                else:\n",
        "                    hor.append([sucursal,documento+i+1,hora_inicial.strftime(\"%d/%m/%Y\"),hora_final.strftime(\"%H:%M\"),\"Nada\",j+29])\n",
        "                    hora_final = hora_final + timedelta(minutes=15)\n",
        "                    j=j+1\n",
        "                k=k+1\n",
        "        j=k\n",
        "        try:\n",
        "            if(empleado[j]==0 and empleado[j+1]==1):\n",
        "                estado=\"Pausa Activa\"\n",
        "            if(empleado[j]==0 and empleado[j+1]==0):\n",
        "                y=0\n",
        "                while y<6:\n",
        "                    hor.append([sucursal,documento+i+1,hora_inicial.strftime(\"%d/%m/%Y\"),hora_final.strftime(\"%H:%M\"),\"Almuerza\",j+29+y])\n",
        "                    hora_final = hora_final + timedelta(minutes=15)\n",
        "                    y=y+1\n",
        "                j=j+6\n",
        "            if(empleado[j]==1):\n",
        "                estado=\"Trabaja\"\n",
        "        except:\n",
        "            try:\n",
        "                if(empleado[j]==1):\n",
        "                    estado=\"Trabaja\"\n",
        "                if(empleado[j]==0):\n",
        "                    estado=\"Nada\"\n",
        "            except:\n",
        "                continue\n",
        "        hor.append([sucursal,documento+i+1,hora_inicial.strftime(\"%d/%m/%Y\"),hora_final.strftime(\"%H:%M\"),estado,j+29])\n",
        "        hora_final = hora_final + timedelta(minutes=15)\n",
        "        j=j+1\n",
        "\n",
        "    m=29\n",
        "    while m>=0:\n",
        "        if(empleado[m]==1):\n",
        "            break\n",
        "        m=m-1\n",
        "    s=hor[m][5]\n",
        "    for m in range((29*i)+m+1,(29*i)+30):\n",
        "        a=hor[m][3]\n",
        "        hora_inicial_str = a\n",
        "        hor[m]=([sucursal,documento+i+1,hora_inicial.strftime(\"%d/%m/%Y\"),a,\"Nada\",s+1])\n",
        "        s=s+1\n",
        "    if(len(hor)>29*i+30):\n",
        "        w=29*i+30\n",
        "        while w<len(hor):\n",
        "            del hor[w]\n",
        "guardarHorario3(hor)"
      ],
      "metadata": {
        "id": "XBjk3TgMsvsN"
      },
      "execution_count": 18,
      "outputs": []
    }
  ]
}