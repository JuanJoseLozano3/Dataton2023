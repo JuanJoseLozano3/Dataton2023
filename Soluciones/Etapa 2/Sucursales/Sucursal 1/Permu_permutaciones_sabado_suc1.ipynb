{
  "nbformat": 4,
  "nbformat_minor": 0,
  "metadata": {
    "colab": {
      "provenance": []
    },
    "kernelspec": {
      "name": "python3",
      "display_name": "Python 3"
    },
    "language_info": {
      "name": "python"
    }
  },
  "cells": [
    {
      "cell_type": "code",
      "execution_count": 3,
      "metadata": {
        "colab": {
          "base_uri": "https://localhost:8080/"
        },
        "id": "lJYEdqoOmZSX",
        "outputId": "c7c38419-cd0a-46a9-d678-9af70df3221b"
      },
      "outputs": [
        {
          "output_type": "stream",
          "name": "stdout",
          "text": [
            "Collecting pulp\n",
            "  Downloading PuLP-2.7.0-py3-none-any.whl (14.3 MB)\n",
            "\u001b[2K     \u001b[90m━━━━━━━━━━━━━━━━━━━━━━━━━━━━━━━━━━━━━━━━\u001b[0m \u001b[32m14.3/14.3 MB\u001b[0m \u001b[31m81.1 MB/s\u001b[0m eta \u001b[36m0:00:00\u001b[0m\n",
            "\u001b[?25hInstalling collected packages: pulp\n",
            "Successfully installed pulp-2.7.0\n"
          ]
        }
      ],
      "source": [
        "pip install pulp"
      ]
    },
    {
      "cell_type": "code",
      "source": [
        "import pandas as pd\n",
        "from joblib import Memory\n",
        "#from pulp import LpProblem, LpVariable, lpSum, LpMinimize\n",
        "from pulp import LpProblem, LpVariable, lpSum, LpMinimize, value\n",
        "import numpy as np\n",
        "\n",
        "\n",
        "#6:43\n",
        "\n",
        "# Crea un objeto de caché en la carpeta 'cache'\n",
        "memory = Memory('cache', verbose=0)\n",
        "\n",
        "# Función para cargar los datos desde los archivos Excel o caché\n",
        "@memory.cache\n",
        "def cargar_datos_desde_excel():\n",
        "    demanda_df = pd.read_excel('Demanda_Horarios_Sabado_1.xlsx')\n",
        "    combinaciones_df = pd.read_excel('horarios_sabado_TC.xlsx').iloc[:, :29]\n",
        "    return demanda_df, combinaciones_df\n",
        "\n",
        "demanda_df, combinaciones_df = cargar_datos_desde_excel()\n",
        "\n",
        "empleados = 4\n",
        "franjas_horarias = 29\n",
        "combinaciones = len(combinaciones_df)\n",
        "\n",
        "# Crear una matriz de demanda que coincida con las combinaciones de horarios\n",
        "demanda = np.array([demanda_df.iloc[0, :]] * combinaciones)\n",
        "\n",
        "# Crear un problema de programación lineal\n",
        "problema = LpProblem(\"Asignacion_de_Horarios\", LpMinimize)\n",
        "\n",
        "# Variables binarias para la asignación de horarios\n",
        "asignacion = LpVariable.dicts(\"Asignacion\", [(i, j) for i in range(empleados) for j in range(combinaciones)], cat='Binary')\n",
        "\n",
        "# Función objetivo para minimizar la cantidad de demanda incumplida\n",
        "problema += lpSum(demanda[j] - lpSum(asignacion[(i, j)] for i in range(empleados)) for j in range(combinaciones))\n",
        "\n",
        "# Restricciones\n",
        "for i in range(empleados):\n",
        "    problema += lpSum(asignacion[(i, j)] for j in range(combinaciones)) == empleados\n",
        "\n",
        "for j in range(combinaciones):\n",
        "    problema += lpSum(asignacion[(i, j)] for i in range(empleados)) >= 1\n",
        "\n",
        "# Resolver el problema\n",
        "problema.solve()\n",
        "\n",
        "# Mostrar los resultados\n",
        "asignaciones = {}\n",
        "for i in range(empleados):\n",
        "    asignaciones[i] = [j for j in range(combinaciones) if value(asignacion[(i, j)]) == 1]\n",
        "\n",
        "for i, asignacion in asignaciones.items():\n",
        "    print(len(asignacion))\n",
        "    print(f\"Empleado {i + 1} trabaja en las combinaciones de horarios: {asignacion}\")"
      ],
      "metadata": {
        "colab": {
          "base_uri": "https://localhost:8080/"
        },
        "id": "aS9OyedUmnDD",
        "outputId": "c3821968-e2cc-4be1-eacd-4c8c6f934fbd"
      },
      "execution_count": 4,
      "outputs": [
        {
          "output_type": "stream",
          "name": "stdout",
          "text": [
            "1\n",
            "Empleado 1 trabaja en las combinaciones de horarios: [279]\n",
            "6\n",
            "Empleado 2 trabaja en las combinaciones de horarios: [78, 206, 215, 223, 258, 305]\n",
            "4\n",
            "Empleado 3 trabaja en las combinaciones de horarios: [120, 164, 230, 292]\n",
            "10\n",
            "Empleado 4 trabaja en las combinaciones de horarios: [52, 60, 104, 122, 148, 178, 231, 278, 308, 318]\n"
          ]
        }
      ]
    },
    {
      "cell_type": "code",
      "source": [
        "fila_e1 = combinaciones_df.iloc[0]\n",
        "#print(fila_e1)\n",
        "print(len(combinaciones_df.iloc[:]))"
      ],
      "metadata": {
        "colab": {
          "base_uri": "https://localhost:8080/"
        },
        "id": "q1VX2pvqpKG4",
        "outputId": "164b08f5-82bf-47fc-80d2-0f8478e9a404"
      },
      "execution_count": 18,
      "outputs": [
        {
          "output_type": "stream",
          "name": "stdout",
          "text": [
            "322\n"
          ]
        }
      ]
    },
    {
      "cell_type": "code",
      "source": [
        "from numpy import var\n",
        "\n",
        "\n",
        "#df2 = pd.read_excel(\"intento2_almuerzoBien.xlsx\")\n",
        "asig=[]\n",
        "dem=[]\n",
        "for i, asignacion in asignaciones.items():\n",
        "    asig.append(asignacion)\n",
        "\n",
        "for i in range(29):\n",
        "    dem.append(demanda_df.iloc[0,i])\n",
        "\n",
        "k=-1\n",
        "l=[]\n",
        "p=[]\n",
        "m=[]\n",
        "minimum=999999\n",
        "horarios_=[]\n",
        "\n",
        "for f_e1 in range(0,len(combinaciones_df.iloc[:])):\n",
        "  fila_e1 = combinaciones_df.iloc[f_e1]\n",
        "  for f_e2 in range(0,len(asig[1])):\n",
        "    fila_e2 = combinaciones_df.iloc[asig[1][f_e2]]\n",
        "    for f_e3 in range(0,len(asig[2])):\n",
        "      fila_e3 = combinaciones_df.iloc[asig[2][f_e3]]\n",
        "      for f_e4 in range(0,len(asig[3])):\n",
        "        fila_e4 = combinaciones_df.iloc[asig[3][f_e4]]\n",
        "        sumatoria=0\n",
        "        flag=0\n",
        "        for c in range(1,30):\n",
        "          e1=fila_e1[c]\n",
        "          e2=fila_e2[c]\n",
        "          e3=fila_e3[c]\n",
        "          e4=fila_e4[c]\n",
        "          cont=0\n",
        "          if(e1==1):\n",
        "            cont=cont+1\n",
        "          if(e2==1):\n",
        "            cont=cont+1\n",
        "          if(e3==1):\n",
        "            cont=cont+1\n",
        "          if(e4==1):\n",
        "            cont=cont+1\n",
        "          val=dem[c-1]\n",
        "          if((val-cont)>=0):\n",
        "            sumatoria=sumatoria+(val-cont)\n",
        "        if(sumatoria<=minimum):\n",
        "          filas_vic = [f_e1,asig[1][f_e2],asig[2][f_e3],asig[3][f_e4]]\n",
        "          filas_rea = [f_e1,f_e2,f_e3,f_e4]\n",
        "          minimum=sumatoria\n",
        "          horarios_.append(filas_vic)\n",
        "\n",
        "horarios_final=horarios_[0]\n",
        "print(horarios_final)"
      ],
      "metadata": {
        "colab": {
          "base_uri": "https://localhost:8080/"
        },
        "id": "lDpDfKjim1aG",
        "outputId": "af8107c0-c830-47c7-ca0b-d0ac352f1e02"
      },
      "execution_count": 19,
      "outputs": [
        {
          "output_type": "stream",
          "name": "stdout",
          "text": [
            "[0, 78, 120, 52]\n"
          ]
        }
      ]
    },
    {
      "cell_type": "code",
      "source": [
        "fila_e1 = combinaciones_df.iloc[horarios_final[0]]\n",
        "fila_e2 = combinaciones_df.iloc[horarios_final[1]]\n",
        "fila_e3 = combinaciones_df.iloc[horarios_final[2]]\n",
        "fila_e4 = combinaciones_df.iloc[horarios_final[3]]\n",
        "sumatoria=0\n",
        "#flag=0\n",
        "contador_mt=0\n",
        "for c in range(1,29):\n",
        "  e1=fila_e1[c]\n",
        "  e2=fila_e2[c]\n",
        "  e3=fila_e3[c]\n",
        "  e4=fila_e4[c]\n",
        "  cont=0\n",
        "  if(e1==1):\n",
        "    cont=cont+1\n",
        "  if(e2==1):\n",
        "    cont=cont+1\n",
        "  if(e3==1):\n",
        "    cont=cont+1\n",
        "  if(e4==1):\n",
        "    cont=cont+1\n",
        "  if(cont==0):\n",
        "    print(c)\n",
        "    contador_mt=contador_mt+1\n",
        "  val=dem[c-1]\n",
        "  if((val-cont)>=0):\n",
        "    sumatoria=sumatoria+(val-cont)\n",
        "print(\"Error de: \"+str(sumatoria))\n",
        "#print(contador_mt)"
      ],
      "metadata": {
        "colab": {
          "base_uri": "https://localhost:8080/"
        },
        "id": "N8Zt3FqPrJWz",
        "outputId": "f8d759a0-dbb0-4eee-b987-007e583790ec"
      },
      "execution_count": 22,
      "outputs": [
        {
          "output_type": "stream",
          "name": "stdout",
          "text": [
            "26\n",
            "27\n",
            "28\n",
            "Error de: 66\n"
          ]
        }
      ]
    },
    {
      "cell_type": "code",
      "source": [
        "def cargar_datos_desde_excel():\n",
        "    demanda_df = pd.read_excel('Demanda_Horarios_Sabado_1.xlsx')\n",
        "    combinaciones_df = pd.read_excel('horarios_sabado_MT.xlsx').iloc[:, :49]\n",
        "    return demanda_df, combinaciones_df\n",
        "\n",
        "demanda_df, combinaciones2_df = cargar_datos_desde_excel()\n",
        "#print(combinaciones_df.iloc[0,:])\n",
        "\n",
        "fila_e1 = combinaciones_df.iloc[horarios_final[0]]\n",
        "fila_e2 = combinaciones_df.iloc[horarios_final[1]]\n",
        "fila_e3 = combinaciones_df.iloc[horarios_final[2]]\n",
        "fila_e4 = combinaciones_df.iloc[horarios_final[3]]\n",
        "fila_e5 = combinaciones2_df.iloc[:]\n",
        "\n",
        "if(contador_mt>0):\n",
        "  sumatoria=0\n",
        "  p=[]\n",
        "  min=999\n",
        "  for g in range(1,len(fila_e5)):\n",
        "    con=0\n",
        "    for c in range(1,30):\n",
        "      e1=fila_e1[c]\n",
        "      e2=fila_e2[c]\n",
        "      e3=fila_e3[c]\n",
        "      e4=fila_e4[c]\n",
        "      e5=combinaciones2_df.iloc[g,c-1]\n",
        "      cont=0\n",
        "      if(e1==1):\n",
        "        cont=cont+1\n",
        "      if(e2==1):\n",
        "        cont=cont+1\n",
        "      if(e3==1):\n",
        "        cont=cont+1\n",
        "      if(e4==1):\n",
        "        cont=cont+1\n",
        "      if(e5==1):\n",
        "        cont=cont+1\n",
        "      if(cont==0):\n",
        "        con=con+1\n",
        "    if(min>=con):\n",
        "      min=con\n",
        "      p.append(g)\n",
        "    #print(\"Combination: \"+str(g)+\" error de: \"+str(min))\n",
        "  #print(p)\n",
        "\n",
        "  pos_mt1=[]\n",
        "  for g in p:\n",
        "    con=0\n",
        "    for c in range(1,30):\n",
        "      e1=fila_e1[c]\n",
        "      e2=fila_e2[c]\n",
        "      e3=fila_e3[c]\n",
        "      e4=fila_e4[c]\n",
        "      e5=combinaciones2_df.iloc[g,c-1]\n",
        "      cont=0\n",
        "      if(e1==1):\n",
        "        cont=cont+1\n",
        "      if(e2==1):\n",
        "        cont=cont+1\n",
        "      if(e3==1):\n",
        "        cont=cont+1\n",
        "      if(e4==1):\n",
        "        cont=cont+1\n",
        "      if(e5==1):\n",
        "        cont=cont+1\n",
        "      if(cont==0):\n",
        "        con=con+1\n",
        "    if(min==con):\n",
        "      pos_mt1.append(g)\n",
        "    #print(\"Combination: \"+str(g)+\" error de: \"+str(con))\n",
        "  #print(pos_mt1)\n",
        "  horarios_final.append(pos_mt1[0])\n",
        "print(horarios_final)\n",
        "valor_final5=horarios_final[len(horarios_final)-1]"
      ],
      "metadata": {
        "colab": {
          "base_uri": "https://localhost:8080/"
        },
        "id": "2dSX-cXirnfW",
        "outputId": "85310f25-ae87-4046-92b6-cd0031150d76"
      },
      "execution_count": 25,
      "outputs": [
        {
          "output_type": "stream",
          "name": "stdout",
          "text": [
            "[0, 78, 120, 52, 104]\n"
          ]
        }
      ]
    },
    {
      "cell_type": "code",
      "source": [
        "for i in range(29):\n",
        "    dem.append(demanda_df.iloc[0,i])\n",
        "\n",
        "fila_e6 = combinaciones2_df.iloc[:]\n",
        "\n",
        "horarios_final.append(0)\n",
        "sumatoria=0\n",
        "p=[]\n",
        "min=999\n",
        "for g in range(1,len(fila_e6)):\n",
        "  con=0\n",
        "  for c in range(1,30):\n",
        "    e1=fila_e1[c]\n",
        "    e2=fila_e2[c]\n",
        "    e3=fila_e3[c]\n",
        "    e4=fila_e4[c]\n",
        "    e5=combinaciones2_df.iloc[horarios_final[len(horarios_final)-3],c-1]\n",
        "    e6=combinaciones2_df.iloc[g,c-1]\n",
        "    cont=0\n",
        "    if(e1==1):\n",
        "      cont=cont+1\n",
        "    if(e2==1):\n",
        "      cont=cont+1\n",
        "    if(e3==1):\n",
        "      cont=cont+1\n",
        "    if(e4==1):\n",
        "      cont=cont+1\n",
        "    if(e5==1):\n",
        "      cont=cont+1\n",
        "    if(e6==1):\n",
        "      cont=cont+1\n",
        "    val=dem[c-1]\n",
        "    if((val-cont)>=0):\n",
        "      sumatoria=sumatoria+(val-cont)\n",
        "  if(sumatoria<=minimum):\n",
        "    minimum=sumatoria\n",
        "    horarios_final[len(horarios_final)-1]=g\n",
        "print(horarios_final)\n",
        "valor_final6=horarios_final[len(horarios_final)-1]"
      ],
      "metadata": {
        "colab": {
          "base_uri": "https://localhost:8080/"
        },
        "id": "3T9U4J7RsQDO",
        "outputId": "516d5e46-11f4-4133-f56b-73952f31ec1d"
      },
      "execution_count": 29,
      "outputs": [
        {
          "output_type": "stream",
          "name": "stdout",
          "text": [
            "[0, 78, 120, 52, 104, 1]\n"
          ]
        }
      ]
    },
    {
      "cell_type": "code",
      "source": [
        "for i in range(29):\n",
        "    dem.append(demanda_df.iloc[0,i])\n",
        "\n",
        "fila_e7 = combinaciones2_df.iloc[:]\n",
        "\n",
        "horarios_final.append(0)\n",
        "sumatoria=0\n",
        "p=[]\n",
        "min=999\n",
        "for g in range(1,len(fila_e7)):\n",
        "  con=0\n",
        "  for c in range(1,30):\n",
        "    e1=fila_e1[c]\n",
        "    e2=fila_e2[c]\n",
        "    e3=fila_e3[c]\n",
        "    e4=fila_e4[c]\n",
        "    e5=combinaciones2_df.iloc[horarios_final[len(horarios_final)-3],c-1]\n",
        "    e6=combinaciones2_df.iloc[horarios_final[len(horarios_final)-2],c-1]\n",
        "    e7=combinaciones2_df.iloc[g,c-1]\n",
        "    cont=0\n",
        "    if(e1==1):\n",
        "      cont=cont+1\n",
        "    if(e2==1):\n",
        "      cont=cont+1\n",
        "    if(e3==1):\n",
        "      cont=cont+1\n",
        "    if(e4==1):\n",
        "      cont=cont+1\n",
        "    if(e5==1):\n",
        "      cont=cont+1\n",
        "    if(e6==1):\n",
        "      cont=cont+1\n",
        "    if(e7==1):\n",
        "      cont=cont+1\n",
        "    val=dem[c-1]\n",
        "    if((val-cont)>=0):\n",
        "      sumatoria=sumatoria+(val-cont)\n",
        "  if(sumatoria<=minimum):\n",
        "    minimum=sumatoria\n",
        "    horarios_final[len(horarios_final)-1]=g\n",
        "print(horarios_final)\n",
        "valor_final7=horarios_final[len(horarios_final)-1]"
      ],
      "metadata": {
        "colab": {
          "base_uri": "https://localhost:8080/"
        },
        "id": "NzbdcCHhsfrq",
        "outputId": "7ef3468b-e837-4315-f431-cff456422ca3"
      },
      "execution_count": 31,
      "outputs": [
        {
          "output_type": "stream",
          "name": "stdout",
          "text": [
            "[0, 78, 120, 52, 104, 1, 1]\n"
          ]
        }
      ]
    },
    {
      "cell_type": "code",
      "source": [
        "fila_e1 = combinaciones_df.iloc[horarios_final[0]]\n",
        "fila_e2 = combinaciones_df.iloc[horarios_final[1]]\n",
        "fila_e3 = combinaciones_df.iloc[horarios_final[2]]\n",
        "fila_e4 = combinaciones_df.iloc[horarios_final[3]]\n",
        "fila_e5 = combinaciones2_df.iloc[valor_final5]\n",
        "fila_e6 = combinaciones2_df.iloc[valor_final6]\n",
        "fila_e7 = combinaciones2_df.iloc[valor_final7]\n",
        "sumatoria=0\n",
        "#flag=0\n",
        "contador_mt=0\n",
        "for c in range(1,30):\n",
        "  e1=fila_e1[c]\n",
        "  e2=fila_e2[c]\n",
        "  e3=fila_e3[c]\n",
        "  e4=fila_e4[c]\n",
        "  e5=fila_e5[c]\n",
        "  e6=fila_e6[c]\n",
        "  e7=fila_e7[c]\n",
        "  cont=0\n",
        "  if(e1==1):\n",
        "    cont=cont+1\n",
        "  if(e2==1):\n",
        "    cont=cont+1\n",
        "  if(e3==1):\n",
        "    cont=cont+1\n",
        "  if(e4==1):\n",
        "    cont=cont+1\n",
        "  if(e5==1):\n",
        "    cont=cont+1\n",
        "  if(e6==1):\n",
        "    cont=cont+1\n",
        "  if(e7==1):\n",
        "    cont=cont+1\n",
        "  val=dem[c-1]\n",
        "  if((val-cont)>=0):\n",
        "    sumatoria=sumatoria+(val-cont)\n",
        "print(sumatoria)\n"
      ],
      "metadata": {
        "colab": {
          "base_uri": "https://localhost:8080/"
        },
        "id": "2zXCCR7sr9nV",
        "outputId": "6e9b8e83-a6c2-4f9a-f22f-5e026d507d06"
      },
      "execution_count": 32,
      "outputs": [
        {
          "output_type": "stream",
          "name": "stdout",
          "text": [
            "36\n"
          ]
        }
      ]
    },
    {
      "cell_type": "code",
      "source": [
        "import openpyxl\n",
        "def guardarHorario3(horario):\n",
        "    wb = openpyxl.Workbook()\n",
        "    hoja = wb.active\n",
        "    i=0\n",
        "    while i<len(horario):\n",
        "        hoja.append(tuple(horario[i]))\n",
        "        i=i+1\n",
        "    wb.save('intento_final_2_2.csv')"
      ],
      "metadata": {
        "id": "Z8gA9ZvYsvEo"
      },
      "execution_count": 33,
      "outputs": []
    },
    {
      "cell_type": "code",
      "source": [
        "from datetime import datetime, timedelta\n",
        "\n",
        "sucursal=834\n",
        "dia=11\n",
        "documento=1014\n",
        "\n",
        "hor=[]\n",
        "ini = [\"suc_cod\",\"documento\",\"fecha\",\"hora\",\"estado\",\"hora_franja\"]\n",
        "hor.append(ini)\n",
        "#print(valor_final)\n",
        "t=7\n",
        "for i in range(t):\n",
        "    hora_inicial = datetime(2023, 12, dia, 7, 30)  # Cambia la fecha y hora según tus necesidades\n",
        "    hora_final = hora_inicial\n",
        "    j=1\n",
        "    while j<30:\n",
        "        if(i==0):\n",
        "          empleado = combinaciones_df.iloc[horarios_final[0]]\n",
        "        elif (i==1):\n",
        "          empleado = combinaciones_df.iloc[horarios_final[1]]\n",
        "        elif (i==2):\n",
        "          empleado = combinaciones_df.iloc[horarios_final[2]]\n",
        "        elif (i==3):\n",
        "          empleado = combinaciones_df.iloc[horarios_final[3]]\n",
        "        elif (i==4):\n",
        "          empleado = combinaciones2_df.iloc[valor_final5]\n",
        "        elif (i==5):\n",
        "          empleado = combinaciones2_df.iloc[valor_final6]\n",
        "        else:\n",
        "          empleado = combinaciones2_df.iloc[valor_final7]\n",
        "        k=j\n",
        "        if(j==1):\n",
        "            k=1\n",
        "            while(k<30):\n",
        "                if(empleado[k]==1):\n",
        "                    break\n",
        "                else:\n",
        "                    hor.append([sucursal,documento+i+1,hora_inicial.strftime(\"%d/%m/%Y\"),hora_final.strftime(\"%H:%M\"),\"Nada\",j+29])\n",
        "                    hora_final = hora_final + timedelta(minutes=15)\n",
        "                    j=j+1\n",
        "                k=k+1\n",
        "        j=k\n",
        "        try:\n",
        "            if(empleado[j]==0 and empleado[j+1]==1):\n",
        "                estado=\"Pausa Activa\"\n",
        "            if(empleado[j]==0 and empleado[j+1]==0):\n",
        "                y=0\n",
        "                while y<6:\n",
        "                    hor.append([sucursal,documento+i+1,hora_inicial.strftime(\"%d/%m/%Y\"),hora_final.strftime(\"%H:%M\"),\"Almuerza\",j+29+y])\n",
        "                    hora_final = hora_final + timedelta(minutes=15)\n",
        "                    y=y+1\n",
        "                j=j+6\n",
        "            if(empleado[j]==1):\n",
        "                estado=\"Trabaja\"\n",
        "        except:\n",
        "            try:\n",
        "                if(empleado[j]==1):\n",
        "                    estado=\"Trabaja\"\n",
        "                if(empleado[j]==0):\n",
        "                    estado=\"Nada\"\n",
        "            except:\n",
        "                continue\n",
        "        hor.append([sucursal,documento+i+1,hora_inicial.strftime(\"%d/%m/%Y\"),hora_final.strftime(\"%H:%M\"),estado,j+29])\n",
        "        hora_final = hora_final + timedelta(minutes=15)\n",
        "        j=j+1\n",
        "\n",
        "    m=29\n",
        "    while m>=0:\n",
        "        if(empleado[m]==1):\n",
        "            break\n",
        "        m=m-1\n",
        "    s=hor[m][5]\n",
        "    for m in range((29*i)+m+1,(29*i)+30):\n",
        "        a=hor[m][3]\n",
        "        hora_inicial_str = a\n",
        "        hor[m]=([sucursal,documento+i+1,hora_inicial.strftime(\"%d/%m/%Y\"),a,\"Nada\",s+1])\n",
        "        s=s+1\n",
        "    if(len(hor)>29*i+30):\n",
        "        w=29*i+30\n",
        "        while w<len(hor):\n",
        "            del hor[w]\n",
        "guardarHorario3(hor)"
      ],
      "metadata": {
        "id": "XBjk3TgMsvsN"
      },
      "execution_count": 35,
      "outputs": []
    }
  ]
}